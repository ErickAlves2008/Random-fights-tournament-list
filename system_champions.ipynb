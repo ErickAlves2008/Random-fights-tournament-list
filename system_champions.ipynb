{
 "cells": [
  {
   "cell_type": "markdown",
   "metadata": {},
   "source": [
    "Import modules"
   ]
  },
  {
   "cell_type": "code",
   "execution_count": 1777,
   "metadata": {},
   "outputs": [],
   "source": [
    "import pandas as pd\n",
    "import numpy as np\n",
    "import json"
   ]
  },
  {
   "cell_type": "markdown",
   "metadata": {},
   "source": [
    "Import the data base"
   ]
  },
  {
   "cell_type": "code",
   "execution_count": 1778,
   "metadata": {},
   "outputs": [],
   "source": [
    "data = pd.read_excel('data.xlsx')\n",
    "\n",
    "with open('fights.json') as data_base:\n",
    "    league_list = json.load(data_base)"
   ]
  },
  {
   "cell_type": "markdown",
   "metadata": {},
   "source": [
    "if member is on the league list"
   ]
  },
  {
   "cell_type": "code",
   "execution_count": 1779,
   "metadata": {},
   "outputs": [],
   "source": [
    "league_members = []\n",
    "ignore_members = []\n",
    "\n",
    "for member in data['Discord Name']:\n",
    "    for league_member in league_list['league_list']:\n",
    "\n",
    "        if member == league_member:\n",
    "            league_members.append(member)\n",
    "for name in data['Discord Name']:\n",
    "    if name in league_members:\n",
    "        pass\n",
    "    else:\n",
    "        ignore_members.append(name)\n",
    "a = league_members"
   ]
  },
  {
   "cell_type": "markdown",
   "metadata": {},
   "source": [
    "Sus System"
   ]
  },
  {
   "cell_type": "code",
   "execution_count": 1780,
   "metadata": {},
   "outputs": [],
   "source": [
    "fight_list = []\n",
    "\n",
    "def sus(df):\n",
    "    cache = df\n",
    "    cache2 = []\n",
    "\n",
    "    for i in df:\n",
    "        member1 = cache[np.random.randint(0,len(cache))]\n",
    "        cache.remove(member1)\n",
    "\n",
    "        member2 = cache[np.random.randint(0,len(cache))]\n",
    "        cache.remove(member2)\n",
    "\n",
    "        cache2.append([member1,'vs',member2])\n",
    "\n",
    "    cache3 = [cache[0],'vs',cache[1]]\n",
    "\n",
    "    cache2.append(cache3)\n",
    "\n",
    "    return cache2\n",
    "\n",
    "fight_list = sus(league_members)"
   ]
  },
  {
   "cell_type": "markdown",
   "metadata": {},
   "source": [
    "Data Visualization"
   ]
  },
  {
   "cell_type": "code",
   "execution_count": 1781,
   "metadata": {},
   "outputs": [
    {
     "data": {
      "text/html": [
       "<div>\n",
       "<style scoped>\n",
       "    .dataframe tbody tr th:only-of-type {\n",
       "        vertical-align: middle;\n",
       "    }\n",
       "\n",
       "    .dataframe tbody tr th {\n",
       "        vertical-align: top;\n",
       "    }\n",
       "\n",
       "    .dataframe thead th {\n",
       "        text-align: right;\n",
       "    }\n",
       "</style>\n",
       "<table border=\"1\" class=\"dataframe\">\n",
       "  <thead>\n",
       "    <tr style=\"text-align: right;\">\n",
       "      <th></th>\n",
       "      <th>Discord Name</th>\n",
       "      <th>Nickname</th>\n",
       "      <th>Level</th>\n",
       "      <th>Bounty</th>\n",
       "    </tr>\n",
       "  </thead>\n",
       "  <tbody>\n",
       "    <tr>\n",
       "      <th>0</th>\n",
       "      <td>Thanatin01</td>\n",
       "      <td>Thanatin01</td>\n",
       "      <td>2300.0</td>\n",
       "      <td>26280000.0</td>\n",
       "    </tr>\n",
       "    <tr>\n",
       "      <th>1</th>\n",
       "      <td>DAVIDRAGONBLACK</td>\n",
       "      <td>DAVIDRAGONBLACK</td>\n",
       "      <td>2300.0</td>\n",
       "      <td>20680000.0</td>\n",
       "    </tr>\n",
       "    <tr>\n",
       "      <th>2</th>\n",
       "      <td>Arceus_077</td>\n",
       "      <td>Arceus_077</td>\n",
       "      <td>2300.0</td>\n",
       "      <td>20610000.0</td>\n",
       "    </tr>\n",
       "    <tr>\n",
       "      <th>3</th>\n",
       "      <td>Migo226</td>\n",
       "      <td>migo227</td>\n",
       "      <td>2300.0</td>\n",
       "      <td>20070000.0</td>\n",
       "    </tr>\n",
       "    <tr>\n",
       "      <th>4</th>\n",
       "      <td>alexhwrt</td>\n",
       "      <td>alexhwrt</td>\n",
       "      <td>2300.0</td>\n",
       "      <td>16030000.0</td>\n",
       "    </tr>\n",
       "    <tr>\n",
       "      <th>5</th>\n",
       "      <td>seuyagolindo</td>\n",
       "      <td>seuyagolindo</td>\n",
       "      <td>2300.0</td>\n",
       "      <td>15660000.0</td>\n",
       "    </tr>\n",
       "    <tr>\n",
       "      <th>6</th>\n",
       "      <td>lauroarturdesa33</td>\n",
       "      <td>lauroaturdesa33</td>\n",
       "      <td>2300.0</td>\n",
       "      <td>15510000.0</td>\n",
       "    </tr>\n",
       "    <tr>\n",
       "      <th>7</th>\n",
       "      <td>Mamacozzo</td>\n",
       "      <td>Mamacozzo</td>\n",
       "      <td>2300.0</td>\n",
       "      <td>13540000.0</td>\n",
       "    </tr>\n",
       "    <tr>\n",
       "      <th>8</th>\n",
       "      <td>yLuis</td>\n",
       "      <td>luisguilhermewsw</td>\n",
       "      <td>2067.0</td>\n",
       "      <td>16030000.0</td>\n",
       "    </tr>\n",
       "    <tr>\n",
       "      <th>9</th>\n",
       "      <td>Strinp_</td>\n",
       "      <td>StrinpPeix3</td>\n",
       "      <td>2273.0</td>\n",
       "      <td>13000000.0</td>\n",
       "    </tr>\n",
       "    <tr>\n",
       "      <th>10</th>\n",
       "      <td>FL4_GOJO</td>\n",
       "      <td>FL4_GOJO</td>\n",
       "      <td>2300.0</td>\n",
       "      <td>11000000.0</td>\n",
       "    </tr>\n",
       "    <tr>\n",
       "      <th>11</th>\n",
       "      <td>LZINN_XLO</td>\n",
       "      <td>LZINN_XL0</td>\n",
       "      <td>2300.0</td>\n",
       "      <td>9540000.0</td>\n",
       "    </tr>\n",
       "    <tr>\n",
       "      <th>12</th>\n",
       "      <td>BLACKn</td>\n",
       "      <td>BLACKn444413</td>\n",
       "      <td>2300.0</td>\n",
       "      <td>6410000.0</td>\n",
       "    </tr>\n",
       "    <tr>\n",
       "      <th>13</th>\n",
       "      <td>T8KGABRIEL</td>\n",
       "      <td>T8KGABRIEL</td>\n",
       "      <td>2300.0</td>\n",
       "      <td>4370000.0</td>\n",
       "    </tr>\n",
       "    <tr>\n",
       "      <th>14</th>\n",
       "      <td>D00DL4_N0THUM4N</td>\n",
       "      <td>D00DL4_N0THUM4N</td>\n",
       "      <td>2300.0</td>\n",
       "      <td>4000000.0</td>\n",
       "    </tr>\n",
       "    <tr>\n",
       "      <th>15</th>\n",
       "      <td>MeliodasBRXXX</td>\n",
       "      <td>MeliodasBRXXX</td>\n",
       "      <td>2300.0</td>\n",
       "      <td>3450000.0</td>\n",
       "    </tr>\n",
       "    <tr>\n",
       "      <th>16</th>\n",
       "      <td>mamaquinho25</td>\n",
       "      <td>mamaquinho25</td>\n",
       "      <td>2300.0</td>\n",
       "      <td>3210000.0</td>\n",
       "    </tr>\n",
       "    <tr>\n",
       "      <th>17</th>\n",
       "      <td>Eto_yoshimura</td>\n",
       "      <td>crocodilo05americano</td>\n",
       "      <td>2300.0</td>\n",
       "      <td>3180000.0</td>\n",
       "    </tr>\n",
       "    <tr>\n",
       "      <th>18</th>\n",
       "      <td>Be_BR11</td>\n",
       "      <td>Be_BR11</td>\n",
       "      <td>2300.0</td>\n",
       "      <td>2670000.0</td>\n",
       "    </tr>\n",
       "    <tr>\n",
       "      <th>19</th>\n",
       "      <td>Erickflockus</td>\n",
       "      <td>OMiranha_20</td>\n",
       "      <td>1617.0</td>\n",
       "      <td>2510000.0</td>\n",
       "    </tr>\n",
       "    <tr>\n",
       "      <th>20</th>\n",
       "      <td>-</td>\n",
       "      <td>NaN</td>\n",
       "      <td>NaN</td>\n",
       "      <td>NaN</td>\n",
       "    </tr>\n",
       "  </tbody>\n",
       "</table>\n",
       "</div>"
      ],
      "text/plain": [
       "        Discord Name              Nickname   Level      Bounty\n",
       "0         Thanatin01            Thanatin01  2300.0  26280000.0\n",
       "1    DAVIDRAGONBLACK       DAVIDRAGONBLACK  2300.0  20680000.0\n",
       "2         Arceus_077            Arceus_077  2300.0  20610000.0\n",
       "3            Migo226               migo227  2300.0  20070000.0\n",
       "4           alexhwrt              alexhwrt  2300.0  16030000.0\n",
       "5       seuyagolindo          seuyagolindo  2300.0  15660000.0\n",
       "6   lauroarturdesa33       lauroaturdesa33  2300.0  15510000.0\n",
       "7          Mamacozzo             Mamacozzo  2300.0  13540000.0\n",
       "8              yLuis      luisguilhermewsw  2067.0  16030000.0\n",
       "9            Strinp_           StrinpPeix3  2273.0  13000000.0\n",
       "10          FL4_GOJO              FL4_GOJO  2300.0  11000000.0\n",
       "11         LZINN_XLO             LZINN_XL0  2300.0   9540000.0\n",
       "12            BLACKn          BLACKn444413  2300.0   6410000.0\n",
       "13        T8KGABRIEL            T8KGABRIEL  2300.0   4370000.0\n",
       "14   D00DL4_N0THUM4N       D00DL4_N0THUM4N  2300.0   4000000.0\n",
       "15     MeliodasBRXXX         MeliodasBRXXX  2300.0   3450000.0\n",
       "16      mamaquinho25          mamaquinho25  2300.0   3210000.0\n",
       "17     Eto_yoshimura  crocodilo05americano  2300.0   3180000.0\n",
       "18           Be_BR11               Be_BR11  2300.0   2670000.0\n",
       "19      Erickflockus           OMiranha_20  1617.0   2510000.0\n",
       "20                 -                   NaN     NaN         NaN"
      ]
     },
     "execution_count": 1781,
     "metadata": {},
     "output_type": "execute_result"
    }
   ],
   "source": [
    "data"
   ]
  },
  {
   "cell_type": "markdown",
   "metadata": {},
   "source": [
    "league's Participants"
   ]
  },
  {
   "cell_type": "code",
   "execution_count": 1782,
   "metadata": {},
   "outputs": [
    {
     "data": {
      "text/plain": [
       "['seuyagolindo', 'FL4_GOJO']"
      ]
     },
     "execution_count": 1782,
     "metadata": {},
     "output_type": "execute_result"
    }
   ],
   "source": [
    "pd.DataFrame(data = league_members,columns=['Participant'])"
   ]
  },
  {
   "cell_type": "markdown",
   "metadata": {},
   "source": [
    "Participants aren't in the league"
   ]
  },
  {
   "cell_type": "code",
   "execution_count": 1783,
   "metadata": {},
   "outputs": [
    {
     "data": {
      "text/html": [
       "<div>\n",
       "<style scoped>\n",
       "    .dataframe tbody tr th:only-of-type {\n",
       "        vertical-align: middle;\n",
       "    }\n",
       "\n",
       "    .dataframe tbody tr th {\n",
       "        vertical-align: top;\n",
       "    }\n",
       "\n",
       "    .dataframe thead th {\n",
       "        text-align: right;\n",
       "    }\n",
       "</style>\n",
       "<table border=\"1\" class=\"dataframe\">\n",
       "  <thead>\n",
       "    <tr style=\"text-align: right;\">\n",
       "      <th></th>\n",
       "      <th>Participant</th>\n",
       "    </tr>\n",
       "  </thead>\n",
       "  <tbody>\n",
       "    <tr>\n",
       "      <th>0</th>\n",
       "      <td>Arceus_077</td>\n",
       "    </tr>\n",
       "    <tr>\n",
       "      <th>1</th>\n",
       "      <td>Migo226</td>\n",
       "    </tr>\n",
       "    <tr>\n",
       "      <th>2</th>\n",
       "      <td>Mamacozzo</td>\n",
       "    </tr>\n",
       "    <tr>\n",
       "      <th>3</th>\n",
       "      <td>yLuis</td>\n",
       "    </tr>\n",
       "    <tr>\n",
       "      <th>4</th>\n",
       "      <td>Strinp_</td>\n",
       "    </tr>\n",
       "    <tr>\n",
       "      <th>5</th>\n",
       "      <td>LZINN_XLO</td>\n",
       "    </tr>\n",
       "    <tr>\n",
       "      <th>6</th>\n",
       "      <td>BLACKn</td>\n",
       "    </tr>\n",
       "    <tr>\n",
       "      <th>7</th>\n",
       "      <td>T8KGABRIEL</td>\n",
       "    </tr>\n",
       "    <tr>\n",
       "      <th>8</th>\n",
       "      <td>D00DL4_N0THUM4N</td>\n",
       "    </tr>\n",
       "    <tr>\n",
       "      <th>9</th>\n",
       "      <td>mamaquinho25</td>\n",
       "    </tr>\n",
       "    <tr>\n",
       "      <th>10</th>\n",
       "      <td>Be_BR11</td>\n",
       "    </tr>\n",
       "    <tr>\n",
       "      <th>11</th>\n",
       "      <td>Erickflockus</td>\n",
       "    </tr>\n",
       "    <tr>\n",
       "      <th>12</th>\n",
       "      <td>-</td>\n",
       "    </tr>\n",
       "  </tbody>\n",
       "</table>\n",
       "</div>"
      ],
      "text/plain": [
       "        Participant\n",
       "0        Arceus_077\n",
       "1           Migo226\n",
       "2         Mamacozzo\n",
       "3             yLuis\n",
       "4           Strinp_\n",
       "5         LZINN_XLO\n",
       "6            BLACKn\n",
       "7        T8KGABRIEL\n",
       "8   D00DL4_N0THUM4N\n",
       "9      mamaquinho25\n",
       "10          Be_BR11\n",
       "11     Erickflockus\n",
       "12                -"
      ]
     },
     "execution_count": 1783,
     "metadata": {},
     "output_type": "execute_result"
    }
   ],
   "source": [
    "pd.DataFrame(data = ignore_members,columns=['Participant'])"
   ]
  },
  {
   "cell_type": "markdown",
   "metadata": {},
   "source": [
    "fights list"
   ]
  },
  {
   "cell_type": "code",
   "execution_count": 1784,
   "metadata": {},
   "outputs": [
    {
     "data": {
      "text/html": [
       "<div>\n",
       "<style scoped>\n",
       "    .dataframe tbody tr th:only-of-type {\n",
       "        vertical-align: middle;\n",
       "    }\n",
       "\n",
       "    .dataframe tbody tr th {\n",
       "        vertical-align: top;\n",
       "    }\n",
       "\n",
       "    .dataframe thead th {\n",
       "        text-align: right;\n",
       "    }\n",
       "</style>\n",
       "<table border=\"1\" class=\"dataframe\">\n",
       "  <thead>\n",
       "    <tr style=\"text-align: right;\">\n",
       "      <th></th>\n",
       "      <th>fighter 1</th>\n",
       "      <th>vs</th>\n",
       "      <th>fighter 2</th>\n",
       "    </tr>\n",
       "  </thead>\n",
       "  <tbody>\n",
       "    <tr>\n",
       "      <th>0</th>\n",
       "      <td>lauroarturdesa33</td>\n",
       "      <td>vs</td>\n",
       "      <td>MeliodasBRXXX</td>\n",
       "    </tr>\n",
       "    <tr>\n",
       "      <th>1</th>\n",
       "      <td>alexhwrt</td>\n",
       "      <td>vs</td>\n",
       "      <td>Eto_yoshimura</td>\n",
       "    </tr>\n",
       "    <tr>\n",
       "      <th>2</th>\n",
       "      <td>Thanatin01</td>\n",
       "      <td>vs</td>\n",
       "      <td>DAVIDRAGONBLACK</td>\n",
       "    </tr>\n",
       "    <tr>\n",
       "      <th>3</th>\n",
       "      <td>seuyagolindo</td>\n",
       "      <td>vs</td>\n",
       "      <td>FL4_GOJO</td>\n",
       "    </tr>\n",
       "  </tbody>\n",
       "</table>\n",
       "</div>"
      ],
      "text/plain": [
       "          fighter 1  vs        fighter 2\n",
       "0  lauroarturdesa33  vs    MeliodasBRXXX\n",
       "1          alexhwrt  vs    Eto_yoshimura\n",
       "2        Thanatin01  vs  DAVIDRAGONBLACK\n",
       "3      seuyagolindo  vs         FL4_GOJO"
      ]
     },
     "execution_count": 1784,
     "metadata": {},
     "output_type": "execute_result"
    }
   ],
   "source": [
    "pd.DataFrame(data = fight_list,columns=['fighter 1','vs','fighter 2'])"
   ]
  }
 ],
 "metadata": {
  "kernelspec": {
   "display_name": "Python 3.10.5 64-bit",
   "language": "python",
   "name": "python3"
  },
  "language_info": {
   "codemirror_mode": {
    "name": "ipython",
    "version": 3
   },
   "file_extension": ".py",
   "mimetype": "text/x-python",
   "name": "python",
   "nbconvert_exporter": "python",
   "pygments_lexer": "ipython3",
   "version": "3.10.5"
  },
  "orig_nbformat": 4,
  "vscode": {
   "interpreter": {
    "hash": "4f190df881598ed4ce8c6ef3b9f429d6d516c545021c1bbb0898dd91eb974145"
   }
  }
 },
 "nbformat": 4,
 "nbformat_minor": 2
}
